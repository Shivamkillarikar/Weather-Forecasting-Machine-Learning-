{
 "cells": [
  {
   "cell_type": "code",
   "execution_count": 19,
   "id": "21c7d0df-0476-48f6-b6df-87b40d5f6e49",
   "metadata": {},
   "outputs": [],
   "source": [
    "import requests \n",
    "import numpy as np\n",
    "import pandas as pd\n",
    "from sklearn.model_selection import train_test_split\n",
    "from sklearn.preprocessing import LabelEncoder\n",
    "from sklearn.ensemble import RandomForestClassifier,RandomForestRegressor\n",
    "from sklearn.metrics import mean_squared_error\n",
    "from datetime import datetime,timedelta\n",
    "import pytz"
   ]
  },
  {
   "cell_type": "code",
   "execution_count": 20,
   "id": "7f5aa4de-451b-4cf5-b652-1b2a20e6906f",
   "metadata": {},
   "outputs": [],
   "source": [
    "API_KEY='1afdd88fb14c4b25e2e9192d7eabbba9'\n",
    "BASE_URL='https://api.openweathermap.org/data/2.5/'"
   ]
  },
  {
   "cell_type": "code",
   "execution_count": 21,
   "id": "0618a6a9-370d-411e-bfcf-8d0f37c45feb",
   "metadata": {},
   "outputs": [],
   "source": [
    "def get_current_weather(city):\n",
    "    url = f\"{BASE_URL}weather?q={city}&appid={API_KEY}&units=metric\"\n",
    "    response=requests.get(url)\n",
    "    data=response.json()\n",
    "    return {\n",
    "        'city':data['name'],\n",
    "        'current_temp':round(data['main']['feels_like']),\n",
    "        'feels_like':round(data['main']['feels_like']),\n",
    "        'temp_min':round(data['main']['temp_min']),\n",
    "        'temp_max':round(data['main']['temp_max']),\n",
    "        'humidity':round(data['main']['humidity']),\n",
    "        'description':data['weather'][0]['description'],\n",
    "        'country':data['sys']['country'],\n",
    "        'wind_gust_dir':data['wind']['deg'],\n",
    "        'pressure':data['main']['pressure'],\n",
    "        'WindGustSpeed':data['wind']['speed']\n",
    "    }"
   ]
  },
  {
   "cell_type": "code",
   "execution_count": 22,
   "id": "021c6380-5cc6-43b4-bdc7-0e76919a8462",
   "metadata": {},
   "outputs": [],
   "source": [
    "import pandas as pd\n",
    "\n",
    "def read_historical_data(filename):\n",
    "    df = pd.read_csv(filename)  # Read CSV file\n",
    "    df = df.dropna()  # Remove rows with missing values\n",
    "    df = df.drop_duplicates()  # ✅ Corrected: Drop duplicate rows\n",
    "\n",
    "    return df\n"
   ]
  },
  {
   "cell_type": "code",
   "execution_count": 33,
   "id": "f7788d55-7e54-4bf4-bcaf-fc48dd6fc3ca",
   "metadata": {},
   "outputs": [],
   "source": [
    "from sklearn.preprocessing import LabelEncoder\n",
    "\n",
    "def prepare_data(data):\n",
    "    le = LabelEncoder() \n",
    "    data['WindGustDir'] = le.fit_transform(data['WindGustDir'])\n",
    "    data['RainTomorrow'] = le.fit_transform(data['RainTomorrow'])\n",
    "\n",
    "    X = data[['MinTemp', 'MaxTemp', 'WindGustDir','WindGustSpeed', 'Humidity', 'Pressure', 'Temp']]\n",
    "    y = data['RainTomorrow']\n",
    "\n",
    "    return X, y, le\n"
   ]
  },
  {
   "cell_type": "code",
   "execution_count": 34,
   "id": "009a9ff1-fefc-4575-b888-a3de5037aaa0",
   "metadata": {},
   "outputs": [],
   "source": [
    "def train_test_model(X,y):\n",
    "    X_train,X_test,y_train,y_test=train_test_split(X,y,test_size=0.2,random_state=42)\n",
    "    model=RandomForestClassifier(n_estimators=100,random_state=42)\n",
    "    model.fit(X_train,y_train)\n",
    "    prediction=model.predict(X_test)\n",
    "    print('Mean squared error for rain model')\n",
    "    print(mean_squared_error(y_test,prediction))\n",
    "    return model"
   ]
  },
  {
   "cell_type": "code",
   "execution_count": 46,
   "id": "d72759c6-5cd5-4e13-96bc-bac81a898161",
   "metadata": {},
   "outputs": [],
   "source": [
    "def prepare_regression_data(data,feature):\n",
    "    X,y=[],[]\n",
    "\n",
    "    for i in range(len(data)-1):\n",
    "        X.append(data[feature].iloc[i])\n",
    "        y.append(data[feature].iloc[i+1])\n",
    "    \n",
    "    X=np.array(X).reshape(-1,1)\n",
    "    y=np.array(y)\n",
    "    return X,y\n"
   ]
  },
  {
   "cell_type": "code",
   "execution_count": 47,
   "id": "1908e18b-8e5f-467e-802d-926bd174b62b",
   "metadata": {},
   "outputs": [],
   "source": [
    "def train_regression_mode(X,y):\n",
    "    model=RandomForestRegressor(n_estimators=100,random_state=42)\n",
    "    model.fit(X,y)\n",
    "    return model"
   ]
  },
  {
   "cell_type": "code",
   "execution_count": 48,
   "id": "3f609faf-f4d3-444f-a7f8-0143978fc2d7",
   "metadata": {},
   "outputs": [],
   "source": [
    "def predict_future(model,current_value):\n",
    "    predictions=[current_value]\n",
    "    for i in range(5):\n",
    "        next_value=model.predict(np.array([[predictions[-1]]]))\n",
    "        predictions.append(next_value[0])\n",
    "        \n",
    "    return predictions[1:]"
   ]
  },
  {
   "cell_type": "code",
   "execution_count": 55,
   "id": "78ed3d3c-00dc-48b7-aa48-45705e566db9",
   "metadata": {},
   "outputs": [
    {
     "name": "stdin",
     "output_type": "stream",
     "text": [
      "Enter any city name :  Mumbai\n"
     ]
    },
    {
     "name": "stdout",
     "output_type": "stream",
     "text": [
      "Mean squared error for rain model\n",
      "0.1506849315068493\n",
      "City: Mumbai,IN\n",
      "Current Temperature: 27\n",
      "Feels like: 27\n",
      "Minimum Temperature: 27\n",
      "MaximumTemperature: 28\n",
      "Humidity:36%\n",
      "Weather Prediction:smoke\n",
      "Rain Prediction:Yes\n",
      "Fututre temperature predicition\n",
      "19:00:28.1\n",
      "20:00:25.1\n",
      "21:00:20.1\n",
      "22:00:16.6\n",
      "23:00:14.4\n",
      "future humidity prediction\n",
      "19:00:47.3%\n",
      "20:00:47.2%\n",
      "21:00:47.2%\n",
      "22:00:47.2%\n",
      "23:00:47.2%\n"
     ]
    }
   ],
   "source": [
    "\n",
    "\n",
    "def weather_view():\n",
    "    city=input(\"Enter any city name : \")\n",
    "    current_weather= get_current_weather(city)\n",
    "    historical_data = read_historical_data(r'C:\\Users\\Srushti\\Downloads\\weather.csv')\n",
    "    X,y,le=prepare_data(historical_data)\n",
    "    rain_model=train_test_model(X,y)\n",
    "    wind_deg=current_weather['wind_gust_dir']%360\n",
    "    compass_points=[\n",
    "        (\"N\",0,11.25),(\"NNE\",11.25,33.75),(\"NE\",33.75,56.25),\n",
    "        (\"ENE\",56.25,78.75),(\"E\",78.75,101.25),(\"ESE\",101.25,123.75),\n",
    "        (\"SE\",123.75,146.25),(\"SSE\",146.25,168.75),(\"S\",168.75,191.25),\n",
    "        (\"SSW\",191.25,213.75),(\"SW\",213.75,236.25),(\"WSW\",236.25,258.75),\n",
    "        (\"W\",258.75,281.25),(\"WW\",281.25,303.75),(\"NW\",303.75,326.25),\n",
    "        (\"NW\",326.25,348.75)\n",
    "    ]\n",
    "    compass_direction=next(point for point,start,end in compass_points if start<=wind_deg <end)\n",
    "    compass_direction_encoded=le.transform([compass_direction])[0] if compass_direction in le.classes_ else -1\n",
    "\n",
    "    current_data={\n",
    "        'MinTemp':current_weather['temp_min'],\n",
    "        'MaxTemp':current_weather['temp_max'],\n",
    "        'WindGustDir':compass_direction_encoded,\n",
    "        'WindGustSpeed': current_weather['WindGustSpeed'],  # ✅ Correct key\n",
    "        'Humidity':current_weather['humidity'],\n",
    "        'Pressure':current_weather['pressure'],\n",
    "        'Temp':current_weather['current_temp'],\n",
    "    }\n",
    "    current_df=pd.DataFrame([current_data])\n",
    "\n",
    "    rain_prediction=rain_model.predict(current_df)[0]\n",
    "    X_temp,y_temp=prepare_regression_data(historical_data,'Temp')\n",
    "    X_hum,y_hum=prepare_regression_data(historical_data,'Humidity')\n",
    "    temp_model=train_regression_mode(X_temp,y_temp)\n",
    "    hum_mode=train_regression_mode(X_hum,y_hum)\n",
    "    future_temp=predict_future(temp_model,current_weather['temp_min'])\n",
    "    future_humidity=predict_future(hum_mode,current_weather['humidity'])\n",
    "\n",
    "    timezone=pytz.timezone('Asia/Karachi')\n",
    "    now = datetime.now(timezone)\n",
    "    next_hour = now + timedelta(hours=1)\n",
    "    next_hour=next_hour.replace(minute=0,second=0,microsecond=0)\n",
    "\n",
    "    future_times=[(next_hour + timedelta(hours=i)).strftime(\"%H:00\") for i in range(5)]\n",
    "\n",
    "    print(f\"City: {city},{current_weather['country']}\")\n",
    "    print(f\"Current Temperature: {current_weather['current_temp']}\")\n",
    "    print(f\"Feels like: {current_weather['feels_like']}\")\n",
    "    print(f\"Minimum Temperature: {current_weather['temp_min']}\")\n",
    "    print(f\"MaximumTemperature: {current_weather['temp_max']}\")\n",
    "    print(f\"Humidity:{current_weather['humidity']}%\")\n",
    "    print(f\"Weather Prediction:{current_weather['description']}\")\n",
    "    print(f\"Rain Prediction:{'Yes' if rain_prediction else 'No'}\")\n",
    "\n",
    "    print(\"Fututre temperature predicition\")\n",
    "\n",
    "    for time,temp in zip(future_times,future_temp):\n",
    "        print(f\"{time}:{round(temp,1)}\")\n",
    "\n",
    "    print(\"future humidity prediction\")\n",
    "\n",
    "    for time,humidity in zip(future_times,future_humidity):\n",
    "        print(f\"{time}:{round(humidity,1)}%\")\n",
    "        \n",
    "\n",
    "weather_view()\n",
    "                  \n"
   ]
  },
  {
   "cell_type": "code",
   "execution_count": 43,
   "id": "33d7af13-32d8-49b9-afaf-fb818c880890",
   "metadata": {},
   "outputs": [
    {
     "name": "stdout",
     "output_type": "stream",
     "text": [
      "{'city': 'Innichen', 'current_temp': 0, 'feels_like': 0, 'temp_min': 2, 'temp_max': 2, 'humidity': 76, 'description': 'overcast clouds', 'country': 'IT', 'wind_gust_dir': 310, 'pressure': 1020, 'WindGustSpeed': 2.06}\n"
     ]
    }
   ],
   "source": [
    "print(get_current_weather('India'))"
   ]
  },
  {
   "cell_type": "code",
   "execution_count": null,
   "id": "e7740f5c-6ce1-48bd-b1b8-ec5574d4eb6f",
   "metadata": {},
   "outputs": [],
   "source": []
  }
 ],
 "metadata": {
  "kernelspec": {
   "display_name": "Python 3 (ipykernel)",
   "language": "python",
   "name": "python3"
  },
  "language_info": {
   "codemirror_mode": {
    "name": "ipython",
    "version": 3
   },
   "file_extension": ".py",
   "mimetype": "text/x-python",
   "name": "python",
   "nbconvert_exporter": "python",
   "pygments_lexer": "ipython3",
   "version": "3.11.7"
  }
 },
 "nbformat": 4,
 "nbformat_minor": 5
}
